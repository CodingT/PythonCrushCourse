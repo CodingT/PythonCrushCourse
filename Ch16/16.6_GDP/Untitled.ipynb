{
 "cells": [
  {
   "cell_type": "code",
   "execution_count": 1,
   "metadata": {},
   "outputs": [],
   "source": [
    "import json\n",
    "\n",
    "file = 'gdp.json'\n",
    "with open(file) as f:\n",
    "    gdp_data = json.load(f)\n",
    "    \n",
    "#print(gdp_data)  \n",
    "from pygal.maps.world import COUNTRIES\n",
    "\n",
    "def get_country_code(country_name):\n",
    "    \"\"\"Return the Pygal 2-digit country code for given country\"\"\"\n",
    "    for code, name in COUNTRIES.items():\n",
    "        if name == country_name:\n",
    "            return code\n",
    "    return None\n",
    "\n"
   ]
  },
  {
   "cell_type": "code",
   "execution_count": 3,
   "metadata": {},
   "outputs": [],
   "source": [
    "country_gdp = {}\n",
    "for data in gdp_data:\n",
    "    if data['Year'] == 2015:\n",
    "        country_name = data['Country Name']\n",
    "        gdp_value = int(float(data['Value']))\n",
    "        code = get_country_code(country_name)\n",
    "        if code:\n",
    "            country_gdp[code] = gdp_value\n",
    "\n",
    "        \n",
    "        #print(country_name, gdp_value)"
   ]
  },
  {
   "cell_type": "code",
   "execution_count": 6,
   "metadata": {},
   "outputs": [],
   "source": [
    "import pygal\n",
    "from pygal.style import RotateStyle\n",
    "\n",
    "wgdp_style = RotateStyle('#336699')\n",
    "\n",
    "wgdp = pygal.maps.world.World(style=wgdp_style)\n",
    "\n",
    "wgdp.title = 'World GDP in 2015 by Country'\n",
    "wgdp.add('2015', country_gdp)\n",
    "\n",
    "\n",
    "wgdp.render_to_file('world_gdp.svg')"
   ]
  },
  {
   "cell_type": "code",
   "execution_count": 5,
   "metadata": {},
   "outputs": [
    {
     "name": "stdout",
     "output_type": "stream",
     "text": [
      "{'af': 19215562179, 'al': 11335264966, 'dz': 165874330876, 'ad': 2811489408, 'ao': 102962245246, 'ar': 584711485367, 'am': 10553337672, 'au': 1345383143356, 'at': 382065930307, 'az': 53074370486, 'bh': 31125851063, 'bd': 195078665827, 'by': 56454734396, 'be': 455200045095, 'bz': 1742545900, 'bj': 8290986804, 'bt': 2059258652, 'ba': 16209702863, 'bw': 14430573505, 'br': 1803652649613, 'bn': 12930394937, 'bg': 50199117547, 'bf': 10419303761, 'bi': 3066681386, 'kh': 18049954289, 'cm': 30916218544, 'ca': 1552807652015, 'cf': 1583776759, 'td': 10888798113, 'cl': 242517905161, 'cn': 11064666282625, 'co': 291519596338, 'cr': 54840103850, 'ci': 33145096414, 'hr': 48921877447, 'cu': 87132800000, 'cy': 19676167239, 'cz': 186829940545, 'dk': 301298464861, 'dj': 1727000000, 'do': 68102618092, 'ec': 99290381000, 'sv': 26052340000, 'gq': 12597210657, 'ee': 22566956982, 'et': 64464547915, 'fi': 232439324529, 'fr': 2433562015516, 'ga': 14262032470, 'ge': 13993546732, 'de': 3375611100742, 'gh': 37543361203, 'gr': 195541761243, 'gl': 2220380802, 'gu': 5697000000, 'gt': 63767597193, 'gn': 8767143622, 'gw': 1036130506, 'gy': 3197225181, 'ht': 8724656126, 'hn': 20844284855, 'hu': 122879042001, 'is': 16783714958, 'in': 2089865410867, 'id': 861256351277, 'iq': 179640210726, 'ie': 290617006703, 'il': 299096404728, 'it': 1832347450961, 'jm': 14186886642, 'jp': 4383076298081, 'jo': 37517410281, 'kz': 184388432148, 'ke': 63767539356, 'kw': 114567298105, 'lv': 27009231911, 'lb': 49459296463, 'ls': 2505886024, 'lr': 2034000000, 'li': 6289165409, 'lt': 41402022148, 'lu': 57784495265, 'mg': 9744243420, 'mw': 6373201160, 'my': 296434003328, 'mv': 4006531188, 'ml': 13100058099, 'mt': 10285547954, 'mr': 4844223106, 'mu': 11692287066, 'mx': 1152263780657, 'mn': 11749620619, 'me': 4052913385, 'ma': 101187079462, 'mz': 14798439527, 'mm': 59687373958, 'na': 11571141027, 'np': 21410840908, 'nl': 757999453314, 'nz': 175562976175, 'ni': 12747741539, 'ne': 7217666360, 'ng': 481066152889, 'no': 386663139402, 'om': 69831770871, 'pk': 270556126820, 'pa': 52132289700, 'pg': 21060901603, 'py': 27282581335, 'pe': 189212096470, 'ph': 292774099013, 'pl': 477279647754, 'pt': 199420256049, 'ro': 177911101680, 'ru': 1365864126832, 'rw': 8261034257, 'sm': 1569258068, 'st': 315880811, 'sa': 651757333333, 'sn': 13640668374, 'rs': 37160332465, 'sc': 1437722206, 'sl': 4251869869, 'sg': 296840704102, 'si': 43072415017, 'so': 5925000000, 'za': 317610719411, 'es': 1197789902774, 'lk': 80611989527, 'sd': 97156119150, 'sr': 4826587057, 'sz': 4020275298, 'se': 497918109302, 'ch': 679289166858, 'tj': 7853450374, 'th': 399234547137, 'tl': 1606500000, 'tg': 4087628275, 'tn': 43156708809, 'tr': 859794177118, 'tm': 35799628571, 'ug': 27059447774, 'ua': 91030959454, 'ae': 357949199754, 'gb': 2885570309160, 'us': 18120714000000, 'uy': 53274304214, 'uz': 66903804142, 'zm': 21154394545, 'zw': 16304667807}\n"
     ]
    }
   ],
   "source": [
    "print(country_gdp)"
   ]
  },
  {
   "cell_type": "code",
   "execution_count": null,
   "metadata": {},
   "outputs": [],
   "source": []
  }
 ],
 "metadata": {
  "kernelspec": {
   "display_name": "Python 3",
   "language": "python",
   "name": "python3"
  },
  "language_info": {
   "codemirror_mode": {
    "name": "ipython",
    "version": 3
   },
   "file_extension": ".py",
   "mimetype": "text/x-python",
   "name": "python",
   "nbconvert_exporter": "python",
   "pygments_lexer": "ipython3",
   "version": "3.7.0"
  }
 },
 "nbformat": 4,
 "nbformat_minor": 2
}
